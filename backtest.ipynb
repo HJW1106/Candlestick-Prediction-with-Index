{
 "cells": [
  {
   "cell_type": "code",
   "execution_count": 1,
   "id": "ce23dd3b",
   "metadata": {},
   "outputs": [],
   "source": [
    "import os\n",
    "import numpy as np \n",
    "import pandas as pd\n",
    "from glob import glob\n",
    "import cv2\n",
    "import random\n",
    "import matplotlib.pyplot as plt\n",
    "import joblib\n",
    "from tensorflow.keras.models import load_model"
   ]
  },
  {
   "cell_type": "code",
   "execution_count": 2,
   "id": "c0f174d8",
   "metadata": {},
   "outputs": [],
   "source": [
    "dtype_dict = {\n",
    "    'code': str\n",
    "}"
   ]
  },
  {
   "cell_type": "code",
   "execution_count": 3,
   "id": "f29c2324",
   "metadata": {
    "scrolled": true
   },
   "outputs": [],
   "source": [
    "test_list = pd.read_csv(r'C:\\Users\\USER\\Paper\\with index_V3\\test_path.csv', dtype=dtype_dict).iloc[:,1:]\n",
    "\n",
    "test_path = r'C:\\Users\\USER\\Paper\\with index_V3\\Test\\\\'\n",
    "test_list['File Paths'] = test_list['File Paths'].apply(lambda path:os.path.join(test_path, path))\n",
    "df_drop_test = test_list.drop_duplicates('code',keep='first').reset_index(drop=True)"
   ]
  },
  {
   "cell_type": "code",
   "execution_count": 4,
   "id": "9d1a4a2a",
   "metadata": {
    "scrolled": true
   },
   "outputs": [
    {
     "data": {
      "text/plain": [
       "1778"
      ]
     },
     "execution_count": 4,
     "metadata": {},
     "output_type": "execute_result"
    }
   ],
   "source": [
    "len(df_drop_test)"
   ]
  },
  {
   "cell_type": "code",
   "execution_count": 5,
   "id": "99df27a6",
   "metadata": {
    "scrolled": true
   },
   "outputs": [],
   "source": [
    "model = load_model(r'C:\\Users\\USER\\Paper\\with index_V3\\model_V2.h5')"
   ]
  },
  {
   "cell_type": "code",
   "execution_count": 6,
   "id": "72806bed",
   "metadata": {
    "scrolled": true
   },
   "outputs": [
    {
     "name": "stderr",
     "output_type": "stream",
     "text": [
      "C:\\Users\\USER\\AppData\\Local\\Temp\\ipykernel_8520\\3459300542.py:36: FutureWarning: Setting an item of incompatible dtype is deprecated and will raise in a future error of pandas. Value '1.24755685595286' has dtype incompatible with int64, please explicitly cast to a compatible dtype first.\n",
      "  backtest_df.loc[buy_index, 'RR']  = float(backtest_df.loc[sell_index, 'Close']/backtest_df.loc[buy_index, 'Close'] - 1)\n",
      "C:\\Users\\USER\\AppData\\Local\\Temp\\ipykernel_8520\\3459300542.py:34: FutureWarning: Setting an item of incompatible dtype is deprecated and will raise in a future error of pandas. Value '-0.010776620370370416' has dtype incompatible with int64, please explicitly cast to a compatible dtype first.\n",
      "  backtest_df.loc[sell_index, 'RR'] = float(backtest_df.loc[sell_index, 'Close'] /backtest_df.loc[buy_index, 'Close'] - 1)\n",
      "C:\\Users\\USER\\AppData\\Local\\Temp\\ipykernel_8520\\3459300542.py:36: FutureWarning: Setting an item of incompatible dtype is deprecated and will raise in a future error of pandas. Value '0.17212249208025332' has dtype incompatible with int64, please explicitly cast to a compatible dtype first.\n",
      "  backtest_df.loc[buy_index, 'RR']  = float(backtest_df.loc[sell_index, 'Close']/backtest_df.loc[buy_index, 'Close'] - 1)\n",
      "C:\\Users\\USER\\AppData\\Local\\Temp\\ipykernel_8520\\3459300542.py:34: FutureWarning: Setting an item of incompatible dtype is deprecated and will raise in a future error of pandas. Value '0.11391812500000009' has dtype incompatible with int64, please explicitly cast to a compatible dtype first.\n",
      "  backtest_df.loc[sell_index, 'RR'] = float(backtest_df.loc[sell_index, 'Close'] /backtest_df.loc[buy_index, 'Close'] - 1)\n",
      "C:\\Users\\USER\\AppData\\Local\\Temp\\ipykernel_8520\\3459300542.py:34: FutureWarning: Setting an item of incompatible dtype is deprecated and will raise in a future error of pandas. Value '0.3088114104595878' has dtype incompatible with int64, please explicitly cast to a compatible dtype first.\n",
      "  backtest_df.loc[sell_index, 'RR'] = float(backtest_df.loc[sell_index, 'Close'] /backtest_df.loc[buy_index, 'Close'] - 1)\n",
      "C:\\Users\\USER\\AppData\\Local\\Temp\\ipykernel_8520\\3459300542.py:34: FutureWarning: Setting an item of incompatible dtype is deprecated and will raise in a future error of pandas. Value '0.10550717079530636' has dtype incompatible with int64, please explicitly cast to a compatible dtype first.\n",
      "  backtest_df.loc[sell_index, 'RR'] = float(backtest_df.loc[sell_index, 'Close'] /backtest_df.loc[buy_index, 'Close'] - 1)\n",
      "C:\\Users\\USER\\AppData\\Local\\Temp\\ipykernel_8520\\3459300542.py:34: FutureWarning: Setting an item of incompatible dtype is deprecated and will raise in a future error of pandas. Value '0.07317324437685513' has dtype incompatible with int64, please explicitly cast to a compatible dtype first.\n",
      "  backtest_df.loc[sell_index, 'RR'] = float(backtest_df.loc[sell_index, 'Close'] /backtest_df.loc[buy_index, 'Close'] - 1)\n",
      "C:\\Users\\USER\\AppData\\Local\\Temp\\ipykernel_8520\\3459300542.py:36: FutureWarning: Setting an item of incompatible dtype is deprecated and will raise in a future error of pandas. Value '0.15318437526694084' has dtype incompatible with int64, please explicitly cast to a compatible dtype first.\n",
      "  backtest_df.loc[buy_index, 'RR']  = float(backtest_df.loc[sell_index, 'Close']/backtest_df.loc[buy_index, 'Close'] - 1)\n"
     ]
    }
   ],
   "source": [
    "backtest = pd.DataFrame()\n",
    "lower = 1700\n",
    "upper = lower+100\n",
    "for code in df_drop_test['code'].values[lower:upper]:\n",
    "    test_df = test_list[test_list['code'] == code].reset_index(drop=True)\n",
    "\n",
    "    img_list_test = []\n",
    "    for i in range(len(test_df)):\n",
    "        img_test = cv2.imread(test_df['File Paths'].loc[i])\n",
    "\n",
    "        img_list_test.append(img_test)\n",
    "    X_test = np.concatenate(img_list_test, axis = 0)\n",
    "\n",
    "    X_test = X_test.reshape(len(test_df), 170,340,3)/255\n",
    "    y_prob = model.predict(X_test)\n",
    "    y_prob_flat = np.ravel(y_prob)\n",
    "    y_prob_df = pd.DataFrame({'predict_rate':y_prob_flat})\n",
    "    y_prob_df['Decision'] = y_prob_df['predict_rate'].apply(lambda value:'Sell' if value<=0.001 else ('Buy' if value >= 0.995 else 'No Action'))\n",
    "\n",
    "    backtest_df = pd.concat([test_df['code'],\n",
    "                             test_df['Date'],\n",
    "                             y_prob_df['Decision'],\n",
    "                             y_prob_df['predict_rate'],\n",
    "                             test_df['Open'],\n",
    "                             test_df['High'],\n",
    "                             test_df['Low'],\n",
    "                             test_df['Close'],],axis=1)\n",
    "    backtest_df['RR'] = 0\n",
    "    if not backtest_df[backtest_df['Decision'] == 'Buy'].empty and not backtest_df[backtest_df['Decision'] == 'Sell'].empty:\n",
    "        buy_index = backtest_df[backtest_df['Decision'] == 'Buy'].index[0]\n",
    "        sell_index = backtest_df[backtest_df['Decision'] == 'Sell'].index[0]\n",
    "\n",
    "        if buy_index > sell_index:\n",
    "            backtest_df.loc[sell_index, 'RR'] = float(backtest_df.loc[sell_index, 'Close'] /backtest_df.loc[buy_index, 'Close'] - 1)\n",
    "        elif buy_index < sell_index:\n",
    "            backtest_df.loc[buy_index, 'RR']  = float(backtest_df.loc[sell_index, 'Close']/backtest_df.loc[buy_index, 'Close'] - 1)\n",
    "    backtest = pd.concat([backtest, backtest_df], ignore_index=True)"
   ]
  },
  {
   "cell_type": "code",
   "execution_count": 7,
   "id": "f994394f",
   "metadata": {
    "scrolled": false
   },
   "outputs": [],
   "source": [
    "backtest.to_csv('backtest_' + str(lower) +'_' + str(upper) + '.csv')"
   ]
  },
  {
   "cell_type": "code",
   "execution_count": null,
   "id": "8c61a742",
   "metadata": {},
   "outputs": [],
   "source": []
  }
 ],
 "metadata": {
  "kernelspec": {
   "display_name": "Python 3 (ipykernel)",
   "language": "python",
   "name": "python3"
  },
  "language_info": {
   "codemirror_mode": {
    "name": "ipython",
    "version": 3
   },
   "file_extension": ".py",
   "mimetype": "text/x-python",
   "name": "python",
   "nbconvert_exporter": "python",
   "pygments_lexer": "ipython3",
   "version": "3.9.18"
  }
 },
 "nbformat": 4,
 "nbformat_minor": 5
}
