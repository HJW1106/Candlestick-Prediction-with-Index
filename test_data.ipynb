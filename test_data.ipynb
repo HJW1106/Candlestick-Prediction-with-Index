{
 "cells": [
  {
   "cell_type": "code",
   "execution_count": null,
   "id": "c55a6567",
   "metadata": {},
   "outputs": [],
   "source": [
    "import pandas as pd\n",
    "import matplotlib.pyplot as plt\n",
    "import numpy as np\n",
    "import mplfinance as mpf\n",
    "import os\n",
    "from pandas import to_datetime"
   ]
  },
  {
   "cell_type": "code",
   "execution_count": null,
   "id": "aed444c3",
   "metadata": {},
   "outputs": [],
   "source": [
    "data_test = pd.read_excel(r'C:\\Users\\USER\\Paper\\Test_2023.xlsx')"
   ]
  },
  {
   "cell_type": "code",
   "execution_count": null,
   "id": "8fc0fb5e",
   "metadata": {},
   "outputs": [],
   "source": [
    "df = data_test.rename(columns={'年月日':'Date',\n",
    "                              '開盤價(元)':'Open',\n",
    "                              '最高價(元)':'High',\n",
    "                              '最低價(元)':'Low',\n",
    "                              '收盤價(元)':'Close',})"
   ]
  },
  {
   "cell_type": "code",
   "execution_count": null,
   "id": "592c51e1",
   "metadata": {},
   "outputs": [],
   "source": [
    "df_drop = df.drop_duplicates('代號',keep='first').reset_index(drop=True)"
   ]
  },
  {
   "cell_type": "code",
   "execution_count": null,
   "id": "3f3cb197",
   "metadata": {},
   "outputs": [],
   "source": [
    "df['Date'] = pd.to_datetime(df['Date'])"
   ]
  },
  {
   "cell_type": "code",
   "execution_count": null,
   "id": "2344f6a2",
   "metadata": {},
   "outputs": [],
   "source": [
    "figure_paths = []\n",
    "open_price = []\n",
    "high_price = []\n",
    "low_price = []\n",
    "close_price = []\n",
    "index_list = []\n",
    "test_scale_min = 1500\n",
    "test_scale_max = test_scale_min + 300\n",
    "width_in = 170 / 100\n",
    "height_in = 340 / 100\n",
    "\n",
    "index_df = df[df['代號'] == 'Y9999'].reset_index(drop=True)\n",
    "for code in df_drop['代號'].values[test_scale_min:test_scale_max]:\n",
    "    draw_df = df[df['代號'] == code].reset_index(drop=True) \n",
    "\n",
    "    for i in range(len(draw_df)-150):\n",
    "        \n",
    "        stock = draw_df[i:i+150]\n",
    "        stock = stock.iloc[:,2:].set_index('Date')\n",
    "        idx = index_df[i:i+150]\n",
    "        idx = idx.iloc[:,2:].set_index('Date')\n",
    "        \n",
    "        if not os.path.exists(code):\n",
    "            os.makedirs(code)\n",
    "            \n",
    "        fig, ax1 = plt.subplots(figsize=(width_in, height_in), tight_layout=True) \n",
    "        mc = mpf.make_marketcolors(up='r', down='g', inherit=True)\n",
    "        s  = mpf.make_mpf_style(base_mpf_style='yahoo', marketcolors=mc)\n",
    "        mc_idx = mpf.make_marketcolors(up='b', down='purple', inherit=True)\n",
    "        s_idx  = mpf.make_mpf_style(base_mpf_style='yahoo', marketcolors=mc_idx)\n",
    "        \n",
    "        fig_path = os.path.join(code, f\"{code}_{i}.png\")\n",
    "        \n",
    "        mpf.plot(stock,\n",
    "                type='candle',\n",
    "                volume=False,\n",
    "                ax=ax1,\n",
    "                style=s,\n",
    "                tight_layout=True)\n",
    "        \n",
    "        ax2 = ax1.twinx()        \n",
    "        mpf.plot(idx,\n",
    "                type='candle',\n",
    "                volume=False,\n",
    "                ax=ax2,\n",
    "                style=s_idx,\n",
    "                tight_layout=True)\n",
    "        ax1.axis('off')\n",
    "        ax2.axis('off')        \n",
    "        plt.savefig(fig_path)\n",
    "        \n",
    "        figure_paths.append(fig_path)\n",
    "        \n",
    "        open_price.append(stock['Open'].iloc[-1])\n",
    "        high_price.append(stock['High'].iloc[-1])\n",
    "        low_price.append(stock['Low'].iloc[-1])\n",
    "        close_price.append(stock['Close'].iloc[-1])\n",
    "        index_list.append(stock.index[-1])\n",
    "        \n",
    "figure_data = pd.DataFrame({'File Paths': figure_paths,\n",
    "                            'Open':open_price,\n",
    "                            'High':high_price,\n",
    "                            'Low':low_price,\n",
    "                            'Close':close_price,\n",
    "                            'Date': index_list})\n",
    "figure_data['code'] = figure_data.iloc[:, 0].str.split(\"\\\\\").str[0] \n",
    "figure_data.to_csv('Test_data' + '_' + str(test_scale_min) + '_' + str(test_scale_max) +'.csv')"
   ]
  }
 ],
 "metadata": {
  "kernelspec": {
   "display_name": "Python 3 (ipykernel)",
   "language": "python",
   "name": "python3"
  },
  "language_info": {
   "codemirror_mode": {
    "name": "ipython",
    "version": 3
   },
   "file_extension": ".py",
   "mimetype": "text/x-python",
   "name": "python",
   "nbconvert_exporter": "python",
   "pygments_lexer": "ipython3",
   "version": "3.9.18"
  }
 },
 "nbformat": 4,
 "nbformat_minor": 5
}
