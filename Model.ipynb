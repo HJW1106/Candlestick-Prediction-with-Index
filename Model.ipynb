{
 "cells": [
  {
   "cell_type": "code",
   "execution_count": 1,
   "id": "1fa7c42d",
   "metadata": {},
   "outputs": [],
   "source": [
    "import os\n",
    "import numpy as np \n",
    "import pandas as pd\n",
    "from glob import glob\n",
    "import cv2\n",
    "import random\n",
    "import matplotlib.pyplot as plt\n",
    "from tensorflow.keras.models import load_model"
   ]
  },
  {
   "cell_type": "code",
   "execution_count": 2,
   "id": "3b9ced1c",
   "metadata": {
    "scrolled": true
   },
   "outputs": [],
   "source": [
    "winner_list = pd.DataFrame({'file_path':pd.read_csv(r'C:\\Users\\USER\\Paper\\with index_V3\\Winner_path.csv').iloc[:,1]})\n",
    "loser_list = pd.DataFrame({'file_path':pd.read_csv(r'C:\\Users\\USER\\Paper\\with index_V3\\Loser_path.csv').iloc[:,1]})"
   ]
  },
  {
   "cell_type": "code",
   "execution_count": 3,
   "id": "9532385d",
   "metadata": {},
   "outputs": [],
   "source": [
    "winner_path = r'C:\\Users\\USER\\Paper\\with index_V3\\Winner\\\\'\n",
    "loser_path = r'C:\\Users\\USER\\Paper\\with index_V3\\Loser\\\\'"
   ]
  },
  {
   "cell_type": "code",
   "execution_count": 4,
   "id": "b06f363b",
   "metadata": {},
   "outputs": [],
   "source": [
    "winner_list['file_path'] = winner_list['file_path'].apply(lambda path:os.path.join(winner_path, path))\n",
    "loser_list['file_path'] = loser_list['file_path'].apply(lambda path:os.path.join(loser_path, path))\n",
    "winner_list['decision'] = 1\n",
    "loser_list['decision'] = 0"
   ]
  },
  {
   "cell_type": "code",
   "execution_count": 5,
   "id": "1db2a2a4",
   "metadata": {},
   "outputs": [],
   "source": [
    "df = pd.concat([winner_list,loser_list]).reset_index(drop=True)"
   ]
  },
  {
   "cell_type": "code",
   "execution_count": 6,
   "id": "cda028c2",
   "metadata": {},
   "outputs": [],
   "source": [
    "img_list = []\n",
    "missing = []\n",
    "for i in range(len(df)):\n",
    "    img = cv2.imread(df['file_path'].loc[i])\n",
    "    if img is not None:\n",
    "        #img = cv2.resize(img, (167, 313))\n",
    "        img_list.append(img)\n",
    "X = np.concatenate(img_list, axis = 0)"
   ]
  },
  {
   "cell_type": "code",
   "execution_count": 7,
   "id": "3f155094",
   "metadata": {
    "scrolled": true
   },
   "outputs": [],
   "source": [
    "from sklearn.model_selection import train_test_split\n",
    "import joblib\n",
    "import tensorflow as tf\n",
    "from tensorflow import keras\n",
    "from tensorflow.keras.models import Sequential, Model\n",
    "from tensorflow.keras.layers import Dense, Dropout, Flatten, Input\n",
    "from tensorflow.keras.layers import Conv2D, MaxPooling2D, AveragePooling2D\n",
    "from tensorflow.keras.applications import VGG16, DenseNet121,VGG19\n",
    "from tensorflow.keras.applications import MobileNetV3Small, MobileNetV3Large,ResNet152V2\n",
    "from keras.callbacks import EarlyStopping,LearningRateScheduler\n",
    "from tensorflow.keras.optimizers import Adam\n",
    "from keras.preprocessing.image import ImageDataGenerator"
   ]
  },
  {
   "cell_type": "code",
   "execution_count": 8,
   "id": "e35ffb7d",
   "metadata": {
    "scrolled": true
   },
   "outputs": [],
   "source": [
    "X = X.reshape(len(df), 170,340,3)/255\n",
    "X_noise = X + np.random.normal(loc=0, scale=0.05, size=X.shape)\n",
    "X_noise = np.clip(X_noise, 0, 1)"
   ]
  },
  {
   "cell_type": "code",
   "execution_count": 9,
   "id": "3f8338bc",
   "metadata": {},
   "outputs": [],
   "source": [
    "y = df['decision']"
   ]
  },
  {
   "cell_type": "code",
   "execution_count": 10,
   "id": "77856ea7",
   "metadata": {
    "scrolled": true
   },
   "outputs": [],
   "source": [
    "X_train, X_val, y_train, y_val = train_test_split(X_noise,y,random_state=99)"
   ]
  },
  {
   "cell_type": "code",
   "execution_count": 11,
   "id": "cbf2aef0",
   "metadata": {},
   "outputs": [],
   "source": [
    "keras.backend.clear_session()"
   ]
  },
  {
   "cell_type": "code",
   "execution_count": 12,
   "id": "12a9540b",
   "metadata": {},
   "outputs": [],
   "source": [
    "# Application\n",
    "input_shape=(170, 340, 3)\n",
    "inputs = Input(shape=input_shape)\n",
    "\n",
    "Application = DenseNet121(weights='imagenet', include_top=False)\n",
    "for layer in Application.layers:\n",
    "    layer.trainable = False    \n",
    "app_model = Application(inputs)\n",
    "\n",
    "# Flatten\n",
    "x = Dropout(0.2)(app_model)\n",
    "x = Flatten()(app_model)\n",
    "# Output\n",
    "output = Dense(1, activation='sigmoid', name='decision') (x)\n",
    "\n",
    "\n",
    "model = Model(inputs=[inputs], outputs=[output])\n"
   ]
  },
  {
   "cell_type": "code",
   "execution_count": 13,
   "id": "94a1e05d",
   "metadata": {
    "scrolled": true
   },
   "outputs": [
    {
     "name": "stdout",
     "output_type": "stream",
     "text": [
      "Model: \"model\"\n",
      "_________________________________________________________________\n",
      "Layer (type)                 Output Shape              Param #   \n",
      "=================================================================\n",
      "input_1 (InputLayer)         [(None, 170, 340, 3)]     0         \n",
      "_________________________________________________________________\n",
      "densenet121 (Functional)     (None, None, None, 1024)  7037504   \n",
      "_________________________________________________________________\n",
      "flatten (Flatten)            (None, 51200)             0         \n",
      "_________________________________________________________________\n",
      "decision (Dense)             (None, 1)                 51201     \n",
      "=================================================================\n",
      "Total params: 7,088,705\n",
      "Trainable params: 51,201\n",
      "Non-trainable params: 7,037,504\n",
      "_________________________________________________________________\n"
     ]
    }
   ],
   "source": [
    "model.summary()"
   ]
  },
  {
   "cell_type": "code",
   "execution_count": 14,
   "id": "0edd182f",
   "metadata": {},
   "outputs": [],
   "source": [
    "early_stop = EarlyStopping(monitor='val_loss', patience=10, verbose=1, restore_best_weights=True)"
   ]
  },
  {
   "cell_type": "code",
   "execution_count": 15,
   "id": "ed55057d",
   "metadata": {},
   "outputs": [],
   "source": [
    "initial_learning_rate = 0.0001\n",
    "def lr_schedule(epoch):\n",
    "    decay_rate = 0.8\n",
    "    decay_step = 10  # Adjust this as needed\n",
    "    return initial_learning_rate * decay_rate ** (epoch // decay_step)\n",
    "optimizer = Adam(learning_rate=initial_learning_rate)\n",
    "lr_scheduler = LearningRateScheduler(lr_schedule)"
   ]
  },
  {
   "cell_type": "code",
   "execution_count": 16,
   "id": "0f4b7de1",
   "metadata": {},
   "outputs": [],
   "source": [
    "model.compile(loss = 'binary_crossentropy',\n",
    "             optimizer = optimizer,\n",
    "             metrics = ['accuracy'])"
   ]
  },
  {
   "cell_type": "code",
   "execution_count": 17,
   "id": "79667531",
   "metadata": {
    "scrolled": true
   },
   "outputs": [
    {
     "name": "stdout",
     "output_type": "stream",
     "text": [
      "Epoch 1/60\n",
      "13/13 [==============================] - 21s 602ms/step - loss: 0.4786 - accuracy: 0.7670 - val_loss: 0.3854 - val_accuracy: 0.8188\n",
      "Epoch 2/60\n",
      "13/13 [==============================] - 2s 135ms/step - loss: 0.2801 - accuracy: 0.9005 - val_loss: 0.2993 - val_accuracy: 0.8696\n",
      "Epoch 3/60\n",
      "13/13 [==============================] - 2s 135ms/step - loss: 0.1941 - accuracy: 0.9466 - val_loss: 0.2555 - val_accuracy: 0.8913\n",
      "Epoch 4/60\n",
      "13/13 [==============================] - 2s 135ms/step - loss: 0.1469 - accuracy: 0.9636 - val_loss: 0.2111 - val_accuracy: 0.9058\n",
      "Epoch 5/60\n",
      "13/13 [==============================] - 2s 135ms/step - loss: 0.1205 - accuracy: 0.9806 - val_loss: 0.1849 - val_accuracy: 0.9348\n",
      "Epoch 6/60\n",
      "13/13 [==============================] - 2s 135ms/step - loss: 0.0963 - accuracy: 0.9830 - val_loss: 0.1725 - val_accuracy: 0.9493\n",
      "Epoch 7/60\n",
      "13/13 [==============================] - 2s 135ms/step - loss: 0.0810 - accuracy: 0.9903 - val_loss: 0.1505 - val_accuracy: 0.9493\n",
      "Epoch 8/60\n",
      "13/13 [==============================] - 2s 135ms/step - loss: 0.0688 - accuracy: 0.9927 - val_loss: 0.1447 - val_accuracy: 0.9493\n",
      "Epoch 9/60\n",
      "13/13 [==============================] - 2s 135ms/step - loss: 0.0610 - accuracy: 0.9951 - val_loss: 0.1407 - val_accuracy: 0.9493\n",
      "Epoch 10/60\n",
      "13/13 [==============================] - 2s 135ms/step - loss: 0.0542 - accuracy: 0.9976 - val_loss: 0.1321 - val_accuracy: 0.9493\n",
      "Epoch 11/60\n",
      "13/13 [==============================] - 2s 135ms/step - loss: 0.0484 - accuracy: 0.9976 - val_loss: 0.1294 - val_accuracy: 0.9493\n",
      "Epoch 12/60\n",
      "13/13 [==============================] - 2s 135ms/step - loss: 0.0454 - accuracy: 0.9976 - val_loss: 0.1254 - val_accuracy: 0.9493\n",
      "Epoch 13/60\n",
      "13/13 [==============================] - 2s 135ms/step - loss: 0.0409 - accuracy: 0.9976 - val_loss: 0.1230 - val_accuracy: 0.9493\n",
      "Epoch 14/60\n",
      "13/13 [==============================] - 2s 135ms/step - loss: 0.0388 - accuracy: 0.9976 - val_loss: 0.1222 - val_accuracy: 0.9493\n",
      "Epoch 15/60\n",
      "13/13 [==============================] - 2s 135ms/step - loss: 0.0362 - accuracy: 0.9976 - val_loss: 0.1200 - val_accuracy: 0.9493\n",
      "Epoch 16/60\n",
      "13/13 [==============================] - 2s 135ms/step - loss: 0.0344 - accuracy: 0.9976 - val_loss: 0.1174 - val_accuracy: 0.9493\n",
      "Epoch 17/60\n",
      "13/13 [==============================] - 2s 135ms/step - loss: 0.0305 - accuracy: 0.9976 - val_loss: 0.1153 - val_accuracy: 0.9493\n",
      "Epoch 18/60\n",
      "13/13 [==============================] - 2s 136ms/step - loss: 0.0286 - accuracy: 0.9976 - val_loss: 0.1132 - val_accuracy: 0.9493\n",
      "Epoch 19/60\n",
      "13/13 [==============================] - 2s 135ms/step - loss: 0.0264 - accuracy: 0.9976 - val_loss: 0.1121 - val_accuracy: 0.9493\n",
      "Epoch 20/60\n",
      "13/13 [==============================] - 2s 135ms/step - loss: 0.0246 - accuracy: 0.9976 - val_loss: 0.1106 - val_accuracy: 0.9493\n",
      "Epoch 21/60\n",
      "13/13 [==============================] - 2s 135ms/step - loss: 0.0234 - accuracy: 0.9976 - val_loss: 0.1098 - val_accuracy: 0.9493\n",
      "Epoch 22/60\n",
      "13/13 [==============================] - 2s 135ms/step - loss: 0.0224 - accuracy: 1.0000 - val_loss: 0.1087 - val_accuracy: 0.9493\n",
      "Epoch 23/60\n",
      "13/13 [==============================] - 2s 135ms/step - loss: 0.0214 - accuracy: 1.0000 - val_loss: 0.1077 - val_accuracy: 0.9493\n",
      "Epoch 24/60\n",
      "13/13 [==============================] - 2s 135ms/step - loss: 0.0204 - accuracy: 1.0000 - val_loss: 0.1068 - val_accuracy: 0.9493\n",
      "Epoch 25/60\n",
      "13/13 [==============================] - 2s 137ms/step - loss: 0.0199 - accuracy: 1.0000 - val_loss: 0.1068 - val_accuracy: 0.9493\n",
      "Epoch 26/60\n",
      "13/13 [==============================] - 2s 135ms/step - loss: 0.0189 - accuracy: 1.0000 - val_loss: 0.1060 - val_accuracy: 0.9565\n",
      "Epoch 27/60\n",
      "13/13 [==============================] - 2s 134ms/step - loss: 0.0177 - accuracy: 1.0000 - val_loss: 0.1048 - val_accuracy: 0.9493\n",
      "Epoch 28/60\n",
      "13/13 [==============================] - 2s 134ms/step - loss: 0.0170 - accuracy: 1.0000 - val_loss: 0.1051 - val_accuracy: 0.9565\n",
      "Epoch 29/60\n",
      "13/13 [==============================] - 2s 134ms/step - loss: 0.0163 - accuracy: 1.0000 - val_loss: 0.1039 - val_accuracy: 0.9493\n",
      "Epoch 30/60\n",
      "13/13 [==============================] - 2s 134ms/step - loss: 0.0155 - accuracy: 1.0000 - val_loss: 0.1039 - val_accuracy: 0.9565\n",
      "Epoch 31/60\n",
      "13/13 [==============================] - 2s 134ms/step - loss: 0.0150 - accuracy: 1.0000 - val_loss: 0.1024 - val_accuracy: 0.9565\n",
      "Epoch 32/60\n",
      "13/13 [==============================] - 2s 134ms/step - loss: 0.0145 - accuracy: 1.0000 - val_loss: 0.1022 - val_accuracy: 0.9565\n",
      "Epoch 33/60\n",
      "13/13 [==============================] - 2s 134ms/step - loss: 0.0141 - accuracy: 1.0000 - val_loss: 0.1017 - val_accuracy: 0.9493\n",
      "Epoch 34/60\n",
      "13/13 [==============================] - 2s 134ms/step - loss: 0.0138 - accuracy: 1.0000 - val_loss: 0.1015 - val_accuracy: 0.9493\n",
      "Epoch 35/60\n",
      "13/13 [==============================] - 2s 134ms/step - loss: 0.0135 - accuracy: 1.0000 - val_loss: 0.1016 - val_accuracy: 0.9565\n",
      "Epoch 36/60\n",
      "13/13 [==============================] - 2s 134ms/step - loss: 0.0128 - accuracy: 1.0000 - val_loss: 0.1008 - val_accuracy: 0.9493\n",
      "Epoch 37/60\n",
      "13/13 [==============================] - 2s 134ms/step - loss: 0.0125 - accuracy: 1.0000 - val_loss: 0.1005 - val_accuracy: 0.9565\n",
      "Epoch 38/60\n",
      "13/13 [==============================] - 2s 134ms/step - loss: 0.0123 - accuracy: 1.0000 - val_loss: 0.1005 - val_accuracy: 0.9565\n",
      "Epoch 39/60\n",
      "13/13 [==============================] - 2s 134ms/step - loss: 0.0118 - accuracy: 1.0000 - val_loss: 0.0997 - val_accuracy: 0.9565\n",
      "Epoch 40/60\n",
      "13/13 [==============================] - 2s 134ms/step - loss: 0.0114 - accuracy: 1.0000 - val_loss: 0.0997 - val_accuracy: 0.9565\n",
      "Epoch 41/60\n",
      "13/13 [==============================] - 2s 134ms/step - loss: 0.0111 - accuracy: 1.0000 - val_loss: 0.0997 - val_accuracy: 0.9565\n",
      "Epoch 42/60\n",
      "13/13 [==============================] - 2s 134ms/step - loss: 0.0109 - accuracy: 1.0000 - val_loss: 0.0994 - val_accuracy: 0.9565\n",
      "Epoch 43/60\n",
      "13/13 [==============================] - 2s 134ms/step - loss: 0.0106 - accuracy: 1.0000 - val_loss: 0.0996 - val_accuracy: 0.9565\n",
      "Epoch 44/60\n",
      "13/13 [==============================] - 2s 134ms/step - loss: 0.0104 - accuracy: 1.0000 - val_loss: 0.0994 - val_accuracy: 0.9565\n",
      "Epoch 45/60\n",
      "13/13 [==============================] - 2s 134ms/step - loss: 0.0102 - accuracy: 1.0000 - val_loss: 0.0990 - val_accuracy: 0.9565\n",
      "Epoch 46/60\n",
      "13/13 [==============================] - 2s 134ms/step - loss: 0.0100 - accuracy: 1.0000 - val_loss: 0.0988 - val_accuracy: 0.9565\n",
      "Epoch 47/60\n",
      "13/13 [==============================] - 2s 134ms/step - loss: 0.0098 - accuracy: 1.0000 - val_loss: 0.0983 - val_accuracy: 0.9565\n",
      "Epoch 48/60\n",
      "13/13 [==============================] - 2s 134ms/step - loss: 0.0096 - accuracy: 1.0000 - val_loss: 0.0983 - val_accuracy: 0.9565\n",
      "Epoch 49/60\n",
      "13/13 [==============================] - 2s 134ms/step - loss: 0.0094 - accuracy: 1.0000 - val_loss: 0.0979 - val_accuracy: 0.9565\n",
      "Epoch 50/60\n",
      "13/13 [==============================] - 2s 134ms/step - loss: 0.0091 - accuracy: 1.0000 - val_loss: 0.0981 - val_accuracy: 0.9565\n",
      "Epoch 51/60\n",
      "13/13 [==============================] - 2s 134ms/step - loss: 0.0090 - accuracy: 1.0000 - val_loss: 0.0982 - val_accuracy: 0.9565\n",
      "Epoch 52/60\n",
      "13/13 [==============================] - 2s 134ms/step - loss: 0.0089 - accuracy: 1.0000 - val_loss: 0.0976 - val_accuracy: 0.9565\n",
      "Epoch 53/60\n",
      "13/13 [==============================] - 2s 134ms/step - loss: 0.0088 - accuracy: 1.0000 - val_loss: 0.0980 - val_accuracy: 0.9565\n",
      "Epoch 54/60\n",
      "13/13 [==============================] - 2s 134ms/step - loss: 0.0085 - accuracy: 1.0000 - val_loss: 0.0973 - val_accuracy: 0.9565\n",
      "Epoch 55/60\n",
      "13/13 [==============================] - 2s 134ms/step - loss: 0.0084 - accuracy: 1.0000 - val_loss: 0.0972 - val_accuracy: 0.9565\n",
      "Epoch 56/60\n",
      "13/13 [==============================] - 2s 134ms/step - loss: 0.0083 - accuracy: 1.0000 - val_loss: 0.0973 - val_accuracy: 0.9565\n",
      "Epoch 57/60\n",
      "13/13 [==============================] - 2s 135ms/step - loss: 0.0081 - accuracy: 1.0000 - val_loss: 0.0971 - val_accuracy: 0.9565\n",
      "Epoch 58/60\n"
     ]
    },
    {
     "name": "stdout",
     "output_type": "stream",
     "text": [
      "13/13 [==============================] - 2s 134ms/step - loss: 0.0080 - accuracy: 1.0000 - val_loss: 0.0970 - val_accuracy: 0.9565\n",
      "Epoch 59/60\n",
      "13/13 [==============================] - 2s 134ms/step - loss: 0.0079 - accuracy: 1.0000 - val_loss: 0.0968 - val_accuracy: 0.9565\n",
      "Epoch 60/60\n",
      "13/13 [==============================] - 2s 134ms/step - loss: 0.0078 - accuracy: 1.0000 - val_loss: 0.0971 - val_accuracy: 0.9565\n"
     ]
    }
   ],
   "source": [
    "train = model.fit(X_train, y_train, validation_data = (X_val,y_val),epochs = 60,shuffle=True,callbacks=[lr_scheduler,early_stop])"
   ]
  },
  {
   "cell_type": "code",
   "execution_count": 18,
   "id": "e90d8989",
   "metadata": {
    "scrolled": false
   },
   "outputs": [
    {
     "data": {
      "text/plain": [
       "['history_V2.joblib']"
      ]
     },
     "execution_count": 18,
     "metadata": {},
     "output_type": "execute_result"
    }
   ],
   "source": [
    "model.save('model_V2.h5')\n",
    "\n",
    "# Save the training history\n",
    "joblib.dump(train.history, 'history_V2.joblib')"
   ]
  },
  {
   "cell_type": "code",
   "execution_count": null,
   "id": "bfdf5d96",
   "metadata": {},
   "outputs": [],
   "source": []
  }
 ],
 "metadata": {
  "kernelspec": {
   "display_name": "Python 3 (ipykernel)",
   "language": "python",
   "name": "python3"
  },
  "language_info": {
   "codemirror_mode": {
    "name": "ipython",
    "version": 3
   },
   "file_extension": ".py",
   "mimetype": "text/x-python",
   "name": "python",
   "nbconvert_exporter": "python",
   "pygments_lexer": "ipython3",
   "version": "3.9.18"
  }
 },
 "nbformat": 4,
 "nbformat_minor": 5
}
